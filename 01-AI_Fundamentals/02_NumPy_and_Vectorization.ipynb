{
 "cells": [
  {
   "cell_type": "markdown",
   "metadata": {},
   "source": [
    "# Practical Lab: Python, NumPy, and Array Operations\n",
    "\n",
    "This notebook introduces you to important scientific computing concepts, with a focus on the NumPy library for working with arrays in Python. You’ll learn how to create and manipulate vectors and matrices—core skills for data science and machine learning.\n",
    "\n",
    "## Contents\n",
    "- 1. Goals\n",
    "- 2. What is NumPy?\n",
    "- 3. Vectors: Creation and Manipulation\n",
    "- 4. Matrices: Creation and Operations\n"
   ]
  },
  {
   "cell_type": "code",
   "execution_count": null,
   "metadata": {},
   "outputs": [],
   "source": [
    "import numpy as np\n",
    "import time"
   ]
  },
  {
   "cell_type": "markdown",
   "metadata": {},
   "source": [
    "## 1. Goals\n",
    "\n",
    "By the end of this lab, you will:\n",
    "- Know how to use NumPy to handle numerical data\n",
    "- Understand the difference between vectors and matrices\n",
    "- Practice creating arrays and performing efficient operations\n"
   ]
  },
  {
   "cell_type": "markdown",
   "metadata": {},
   "source": [
    "## 2. What is NumPy?\n",
    "\n",
    "NumPy is a powerful numerical library for Python. It provides the `ndarray` data type for storing and manipulating large collections of numbers efficiently. NumPy is optimized for performance and is widely used in scientific and machine learning applications."
   ]
  },
  {
   "cell_type": "markdown",
   "metadata": {},
   "source": [
    "Official documentation: [NumPy](https://numpy.org/doc/stable/)\n",
    "Learn about broadcasting: [NumPy Broadcasting](https://numpy.org/doc/stable/user/basics.broadcasting.html)\n"
   ]
  },
  {
   "cell_type": "markdown",
   "metadata": {},
   "source": [
    "## 3. Vectors: Creation and Manipulation\n",
    "\n",
    "A **vector** is a one-dimensional array. You can think of it as a list of numbers. NumPy makes it easy to create vectors and perform operations on them."
   ]
  },
  {
   "cell_type": "code",
   "execution_count": null,
   "metadata": {},
   "outputs": [],
   "source": [
    "# Creating vectors in NumPy\n",
    "x = np.zeros(4)\n",
    "print(f\"Zeros: x = {x}, shape = {x.shape}, dtype = {x.dtype}\")\n",
    "\n",
    "y = np.random.random(4)\n",
    "print(f\"Random values: y = {y}, shape = {y.shape}, dtype = {y.dtype}\")\n",
    "\n",
    "z = np.arange(4)\n",
    "print(f\"Range: z = {z}, shape = {z.shape}, dtype = {z.dtype}\")\n",
    "\n",
    "w = np.array([10, 20, 30, 40])\n",
    "print(f\"Manual: w = {w}, shape = {w.shape}, dtype = {w.dtype}\")"
   ]
  },
  {
   "cell_type": "markdown",
   "metadata": {},
   "source": [
    "### Indexing and Slicing Vectors\n",
    "\n",
    "NumPy provides fast ways to access and manipulate elements in arrays. You can use indices to select individual values or slices to select multiple values."
   ]
  },
  {
   "cell_type": "code",
   "execution_count": null,
   "metadata": {},
   "outputs": [],
   "source": [
    "a = np.arange(10)\n",
    "print(f\"Array: {a}\")\n",
    "\n",
    "# Indexing\n",
    "print(f\"Third element: a[2] = {a[2]}\")\n",
    "print(f\"Last element: a[-1] = {a[-1]}\")\n",
    "\n",
    "# Slicing\n",
    "print(f\"Slice a[2:7]: {a[2:7]}\")\n",
    "print(f\"Slice a[:3]: {a[:3]}\")\n",
    "print(f\"All elements: {a[:]}\")"
   ]
  },
  {
   "cell_type": "markdown",
   "metadata": {},
   "source": [
    "### Vector Operations\n",
    "\n",
    "NumPy lets you perform mathematical operations directly on arrays. These operations are applied to each element automatically—this is called **vectorization**."
   ]
  },
  {
   "cell_type": "code",
   "execution_count": null,
   "metadata": {},
   "outputs": [],
   "source": [
    "b = np.array([1, 2, 3, 4])\n",
    "print(f\"Original: {b}\")\n",
    "print(f\"Negated: {-b}\")\n",
    "print(f\"Sum: {np.sum(b)}\")\n",
    "print(f\"Mean: {np.mean(b)}\")\n",
    "print(f\"Squared: {b**2}\")"
   ]
  },
  {
   "cell_type": "markdown",
   "metadata": {},
   "source": [
    "### Element-wise Operations\n",
    "\n",
    "When you add or multiply two arrays of the same shape, the operation is performed for each pair of elements:"
   ]
  },
  {
   "cell_type": "code",
   "execution_count": null,
   "metadata": {},
   "outputs": [],
   "source": [
    "u = np.array([1, 2, 3, 4])\n",
    "v = np.array([4, 3, 2, 1])\n",
    "print(f\"Addition: {u + v}\")"
   ]
  },
  {
   "cell_type": "markdown",
   "metadata": {},
   "source": [
    "Arrays must have the same shape for element-wise operations:"
   ]
  },
  {
   "cell_type": "code",
   "execution_count": null,
   "metadata": {},
   "outputs": [],
   "source": [
    "try:\n",
    "    print(u + np.array([1, 2]))\n",
    "except Exception as e:\n",
    "    print(f\"Error: {e}\")"
   ]
  },
  {
   "cell_type": "markdown",
   "metadata": {},
   "source": [
    "### Scalar Operations\n",
    "\n",
    "You can multiply or add a scalar (single number) to an array, and the operation will be applied to every element:"
   ]
  },
  {
   "cell_type": "code",
   "execution_count": null,
   "metadata": {},
   "outputs": [],
   "source": [
    "print(f\"Scaling: 3 * u = {3 * u}\")"
   ]
  },
  {
   "cell_type": "markdown",
   "metadata": {},
   "source": [
    "### Dot Product\n",
    "\n",
    "The dot product of two vectors multiplies corresponding elements and sums the results. It is a fundamental operation in linear algebra and machine learning."
   ]
  },
  {
   "cell_type": "code",
   "execution_count": null,
   "metadata": {},
   "outputs": [],
   "source": [
    "def manual_dot(a, b):\n",
    "    \"\"\"Compute dot product manually\"\"\"\n",
    "    result = 0\n",
    "    for i in range(len(a)):\n",
    "        result += a[i] * b[i]\n",
    "    return result\n",
    "\n",
    "a = np.array([2, 3, 4])\n",
    "b = np.array([5, 6, 7])\n",
    "print(f\"Manual dot: {manual_dot(a, b)}\")\n",
    "print(f\"NumPy dot: {np.dot(a, b)}\")"
   ]
  },
  {
   "cell_type": "markdown",
   "metadata": {},
   "source": [
    "### Vectorization Speed Advantage\n",
    "\n",
    "Vectorized operations are much faster than looping over array elements one by one. Let's compare the speed:"
   ]
  },
  {
   "cell_type": "code",
   "execution_count": null,
   "metadata": {},
   "outputs": [],
   "source": [
    "np.random.seed(0)\n",
    "large_a = np.random.rand(10000000)\n",
    "large_b = np.random.rand(10000000)\n",
    "\n",
    "start = time.time()\n",
    "result = np.dot(large_a, large_b)\n",
    "end = time.time()\n",
    "print(f\"NumPy dot time: {1000*(end-start):.2f} ms\")\n",
    "\n",
    "start = time.time()\n",
    "result = manual_dot(large_a, large_b)\n",
    "end = time.time()\n",
    "print(f\"Manual dot time: {1000*(end-start):.2f} ms\")"
   ]
  },
  {
   "cell_type": "markdown",
   "metadata": {},
   "source": [
    "## 4. Matrices: Creation and Operations\n",
    "\n",
    "A **matrix** is a two-dimensional array. Each row can represent an example, and each column a feature."
   ]
  },
  {
   "cell_type": "code",
   "execution_count": null,
   "metadata": {},
   "outputs": [],
   "source": [
    "# Creating matrices\n",
    "m = np.zeros((2, 3))\n",
    "print(f\"Zeros matrix:\\n{m}\")\n",
    "\n",
    "n = np.array([[1, 2, 3], [4, 5, 6]])\n",
    "print(f\"Manual matrix:\\n{n}\")"
   ]
  },
  {
   "cell_type": "markdown",
   "metadata": {},
   "source": [
    "### Matrix Indexing and Slicing\n",
    "\n",
    "You can access rows, columns, and individual elements using indices:"
   ]
  },
  {
   "cell_type": "code",
   "execution_count": null,
   "metadata": {},
   "outputs": [],
   "source": [
    "mat = np.arange(1, 13).reshape(3, 4)\n",
    "print(f\"Matrix:\\n{mat}\")\n",
    "print(f\"Second row: {mat[1]}\")\n",
    "print(f\"Element (2,3): {mat[1,2]}\")\n",
    "print(f\"First column: {mat[:,0]}\")"
   ]
  },
  {
   "cell_type": "markdown",
   "metadata": {},
   "source": [
    "### Slicing Multiple Rows and Columns\n",
    "\n",
    "You can select submatrices by slicing rows and columns:"
   ]
  },
  {
   "cell_type": "code",
   "execution_count": null,
   "metadata": {},
   "outputs": [],
   "source": [
    "submat = mat[0:2, 1:3]\n",
    "print(f\"Sliced submatrix:\\n{submat}\")"
   ]
  },
  {
   "cell_type": "markdown",
   "metadata": {},
   "source": [
    "## Well Done!\n",
    "\n",
    "You’ve learned how to create and manipulate vectors and matrices efficiently in Python using NumPy. These skills are fundamental for working with data in AI and machine learning."
   ]
  }
 ],
 "metadata": {
  "kernelspec": {
   "display_name": "Python 3",
   "language": "python",
   "name": "python3"
  },
  "language_info": {
   "codemirror_mode": {
    "name": "ipython",
    "version": 3
   },
   "file_extension": ".py",
   "mimetype": "text/x-python",
   "name": "python",
   "nbconvert_exporter": "python",
   "pygments_lexer": "ipython3",
   "version": "3.7.6"
  }
 },
 "nbformat": 4,
 "nbformat_minor": 5
}
