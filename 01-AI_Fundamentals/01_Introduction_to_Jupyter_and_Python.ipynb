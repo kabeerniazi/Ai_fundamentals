{
 "cells": [
  {
   "cell_type": "markdown",
   "metadata": {},
   "source": [
    "# Getting Started with Jupyter Notebooks and Python Basics\n",
    "\n",
    "This interactive notebook will help you become comfortable with Jupyter Notebooks and refresh your Python programming skills. By working through this material, you'll build a solid foundation for the AI and machine learning concepts ahead.\n",
    "\n",
    "## What You'll Learn\n",
    "\n",
    "Through this notebook, you will:\n",
    "- Understand the Jupyter Notebook environment and how to navigate it\n",
    "- Distinguish between text (markdown) and executable code cells\n",
    "- Work with Python variables, strings, and basic operations\n",
    "- Practice writing and running Python code interactively"
   ]
  },
  {
   "cell_type": "markdown",
   "metadata": {},
   "source": [
    "## Understanding Jupyter Notebooks\n",
    "\n",
    "Jupyter Notebooks are interactive documents that combine executable code, formatted text, visualizations, and more. They're widely used in data science and AI because they allow you to experiment with code and see results immediately.\n",
    "\n",
    "### Key Features:\n",
    "- **Interactive execution**: Run code and see results instantly\n",
    "- **Mix code and documentation**: Explain your thinking alongside your code\n",
    "- **Visual feedback**: Display charts, graphs, and images directly in the notebook\n",
    "\n",
    "**Pro Tip**: Explore the menu bar at the top of this notebook to discover various features like saving, exporting, and getting help."
   ]
  },
  {
   "cell_type": "markdown",
   "metadata": {},
   "source": [
    "## Working with Different Cell Types\n",
    "\n",
    "Jupyter notebooks use two main types of cells:\n",
    "\n",
    "### 1. Markdown Cells (Like this one)\n",
    "These cells contain formatted text using Markdown syntax. They're perfect for:\n",
    "- Adding explanations and documentation\n",
    "- Creating section headers and structure\n",
    "- Including mathematical equations and images\n",
    "\n",
    "You can change a cell's type using the dropdown menu in the toolbar. If a cell behaves unexpectedly, check that it's set to the correct type.\n",
    "\n",
    "### 2. Code Cells (See below)\n",
    "These cells contain Python code that you can execute. When you run a code cell, any output will appear directly below it."
   ]
  },
  {
   "cell_type": "code",
   "execution_count": null,
   "metadata": {},
   "outputs": [],
   "source": [
    "# This is a code cell - you can identify it by the gray background\n",
    "# Lines starting with '#' are comments and don't execute\n",
    "\n",
    "print(\"Hello! This is executable Python code.\")\n",
    "print(\"The output appears below this cell when you run it.\")"
   ]
  },
  {
   "cell_type": "markdown",
   "metadata": {},
   "source": [
    "## Running Code in Jupyter\n",
    "\n",
    "There are multiple ways to execute a code cell:\n",
    "\n",
    "1. **Keyboard shortcut**: Click on the cell and press `Shift + Enter`\n",
    "2. **Run button**: Use the \"Run\" button in the toolbar\n",
    "3. **Cell menu**: Select Cell → Run Cells from the menu bar\n",
    "\n",
    "After running a cell, Jupyter automatically moves to the next cell. This makes it easy to work through a notebook sequentially.\n",
    "\n",
    "**Try it yourself**: Run the code cell above using one of these methods!"
   ]
  },
  {
   "cell_type": "markdown",
   "metadata": {},
   "source": [
    "## Python Fundamentals: Variables and Strings\n",
    "\n",
    "Let's explore some basic Python concepts that you'll use throughout this course.\n",
    "\n",
    "### Variables\n",
    "Variables are containers that store data. In Python, you create a variable by assigning it a value:"
   ]
  },
  {
   "cell_type": "code",
   "execution_count": null,
   "metadata": {},
   "outputs": [],
   "source": [
    "# Creating variables with different data types\n",
    "name = \"Alice\"\n",
    "age = 25\n",
    "height = 5.6\n",
    "is_student = True\n",
    "\n",
    "print(\"Name:\", name)\n",
    "print(\"Age:\", age)\n",
    "print(\"Height:\", height, \"feet\")\n",
    "print(\"Is student:\", is_student)"
   ]
  },
  {
   "cell_type": "markdown",
   "metadata": {},
   "source": [
    "### String Formatting with f-strings\n",
    "\n",
    "Python's f-strings provide an elegant way to embed variables inside strings. Simply prefix the string with `f` and place variables inside curly braces `{}`:"
   ]
  },
  {
   "cell_type": "code",
   "execution_count": null,
   "metadata": {},
   "outputs": [],
   "source": [
    "# Using f-strings for formatted output\n",
    "course = \"Artificial Intelligence\"\n",
    "topic = \"Machine Learning\"\n",
    "difficulty = \"beginner-friendly\"\n",
    "\n",
    "message = f\"Welcome to {course}! We'll start with {topic}, which is {difficulty}.\"\n",
    "print(message)\n",
    "\n",
    "# You can also include expressions inside the braces\n",
    "x = 10\n",
    "y = 5\n",
    "print(f\"The sum of {x} and {y} is {x + y}\")"
   ]
  },
  {
   "cell_type": "markdown",
   "metadata": {},
   "source": [
    "## Practice Exercise\n",
    "\n",
    "Now it's your turn! Create your own variables and use f-strings to display them.\n",
    "\n",
    "**Challenge**: Create variables for your favorite:\n",
    "- Programming language\n",
    "- Number\n",
    "- Activity\n",
    "\n",
    "Then print a message using f-strings that incorporates all three variables."
   ]
  },
  {
   "cell_type": "code",
   "execution_count": null,
   "metadata": {},
   "outputs": [],
   "source": [
    "# Your code here - create variables and print a formatted message\n",
    "favorite_language = \"Python\"\n",
    "favorite_number = 42\n",
    "favorite_activity = \"coding\"\n",
    "\n",
    "# Example solution (modify with your own values!):\n",
    "print(f\"I love {favorite_activity} in {favorite_language}, and {favorite_number} is my lucky number!\")"
   ]
  },
  {
   "cell_type": "markdown",
   "metadata": {},
   "source": [
    "## Working with Numbers and Basic Operations\n",
    "\n",
    "Python supports standard mathematical operations that you'll use frequently in AI and ML:"
   ]
  },
  {
   "cell_type": "code",
   "execution_count": null,
   "metadata": {},
   "outputs": [],
   "source": [
    "# Basic arithmetic operations\n",
    "a = 15\n",
    "b = 4\n",
    "\n",
    "print(f\"Addition: {a} + {b} = {a + b}\")\n",
    "print(f\"Subtraction: {a} - {b} = {a - b}\")\n",
    "print(f\"Multiplication: {a} * {b} = {a * b}\")\n",
    "print(f\"Division: {a} / {b} = {a / b}\")\n",
    "print(f\"Integer division: {a} // {b} = {a // b}\")\n",
    "print(f\"Remainder (modulo): {a} % {b} = {a % b}\")\n",
    "print(f\"Exponentiation: {a} ** {b} = {a ** b}\")"
   ]
  },
  {
   "cell_type": "markdown",
   "metadata": {},
   "source": [
    "## Data Structures: Lists\n",
    "\n",
    "Lists are ordered collections of items. They're incredibly versatile and you'll use them constantly:"
   ]
  },
  {
   "cell_type": "code",
   "execution_count": null,
   "metadata": {},
   "outputs": [],
   "source": [
    "# Creating and working with lists\n",
    "fruits = [\"apple\", \"banana\", \"cherry\", \"date\"]\n",
    "numbers = [1, 2, 3, 4, 5]\n",
    "\n",
    "print(\"Fruits:\", fruits)\n",
    "print(f\"First fruit: {fruits[0]}\")\n",
    "print(f\"Last fruit: {fruits[-1]}\")\n",
    "print(f\"Number of fruits: {len(fruits)}\")\n",
    "\n",
    "# Adding items to a list\n",
    "fruits.append(\"elderberry\")\n",
    "print(\"After adding elderberry:\", fruits)"
   ]
  },
  {
   "cell_type": "markdown",
   "metadata": {},
   "source": [
    "## Summary and Next Steps\n",
    "\n",
    "Excellent work! You've now familiarized yourself with:\n",
    "\n",
    "✅ The Jupyter Notebook interface and how to use it  \n",
    "✅ The difference between markdown and code cells  \n",
    "✅ How to execute code in different ways  \n",
    "✅ Python basics: variables, strings, and f-string formatting  \n",
    "✅ Mathematical operations and list manipulation  \n",
    "\n",
    "These fundamentals will serve as building blocks for the more advanced AI and machine learning concepts you'll encounter in the upcoming modules.\n",
    "\n",
    "**Ready for more?** Continue to the next notebook to learn about NumPy and vectorization!"
   ]
  }
 ],
 "metadata": {
  "kernelspec": {
   "display_name": "Python 3",
   "language": "python",
   "name": "python3"
  },
  "language_info": {
   "codemirror_mode": {
    "name": "ipython",
    "version": 3
   },
   "file_extension": ".py",
   "mimetype": "text/x-python",
   "name": "python",
   "nbconvert_exporter": "python",
   "pygments_lexer": "ipython3",
   "version": "3.7.6"
  }
 },
 "nbformat": 4,
 "nbformat_minor": 5
}
